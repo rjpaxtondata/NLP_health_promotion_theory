{
 "cells": [
  {
   "cell_type": "code",
   "execution_count": 4,
   "id": "745051ab-b76c-4eda-8f40-27353560e322",
   "metadata": {},
   "outputs": [],
   "source": [
    "#import dependencies\n",
    "import numpy as np\n",
    "import matplotlib.pyplot as plt\n",
    "import pandas as pd\n",
    "import re\n",
    "import nltk\n",
    "from nltk.corpus import stopwords\n",
    "from nltk.stem.porter import PorterStemmer\n",
    "from sklearn.feature_extraction.text import CountVectorizer\n",
    "from sklearn.model_selection import train_test_split\n",
    "from sklearn.naive_bayes import GaussianNB\n",
    "from sklearn.metrics import confusion_matrix\n",
    "from sklearn.tree import DecisionTreeClassifier\n",
    "from sklearn.ensemble import RandomForestClassifier"
   ]
  },
  {
   "cell_type": "code",
   "execution_count": 12,
   "id": "c693d91a-83e7-4b28-9219-1cf3a968481c",
   "metadata": {},
   "outputs": [
    {
     "data": {
      "text/html": [
       "<div>\n",
       "<style scoped>\n",
       "    .dataframe tbody tr th:only-of-type {\n",
       "        vertical-align: middle;\n",
       "    }\n",
       "\n",
       "    .dataframe tbody tr th {\n",
       "        vertical-align: top;\n",
       "    }\n",
       "\n",
       "    .dataframe thead th {\n",
       "        text-align: right;\n",
       "    }\n",
       "</style>\n",
       "<table border=\"1\" class=\"dataframe\">\n",
       "  <thead>\n",
       "    <tr style=\"text-align: right;\">\n",
       "      <th></th>\n",
       "      <th>class</th>\n",
       "      <th>text</th>\n",
       "    </tr>\n",
       "  </thead>\n",
       "  <tbody>\n",
       "    <tr>\n",
       "      <th>0</th>\n",
       "      <td>coping planning</td>\n",
       "      <td>work out early in the morning</td>\n",
       "    </tr>\n",
       "    <tr>\n",
       "      <th>1</th>\n",
       "      <td>risk perception</td>\n",
       "      <td>A bad digestive systems</td>\n",
       "    </tr>\n",
       "    <tr>\n",
       "      <th>2</th>\n",
       "      <td>Benefits</td>\n",
       "      <td>ability to enjoy life to the fullest</td>\n",
       "    </tr>\n",
       "    <tr>\n",
       "      <th>3</th>\n",
       "      <td>risk perception</td>\n",
       "      <td>aching joints</td>\n",
       "    </tr>\n",
       "    <tr>\n",
       "      <th>4</th>\n",
       "      <td>coping planning</td>\n",
       "      <td>Add a salad</td>\n",
       "    </tr>\n",
       "  </tbody>\n",
       "</table>\n",
       "</div>"
      ],
      "text/plain": [
       "             class                                  text\n",
       "0  coping planning         work out early in the morning\n",
       "1  risk perception               A bad digestive systems\n",
       "2         Benefits  ability to enjoy life to the fullest\n",
       "3  risk perception                         aching joints\n",
       "4  coping planning                           Add a salad"
      ]
     },
     "execution_count": 12,
     "metadata": {},
     "output_type": "execute_result"
    }
   ],
   "source": [
    "#read in CSV file\n",
    "file = pd.read_csv('NLP_HAPA_brief.csv')\n",
    "file.head()"
   ]
  },
  {
   "cell_type": "code",
   "execution_count": 15,
   "id": "55481c45-5012-49e7-9335-e171dacbf78f",
   "metadata": {},
   "outputs": [
    {
     "name": "stderr",
     "output_type": "stream",
     "text": [
      "[nltk_data] Downloading package stopwords to\n",
      "[nltk_data]     C:\\Users\\paxto\\AppData\\Roaming\\nltk_data...\n",
      "[nltk_data]   Unzipping corpora\\stopwords.zip.\n"
     ]
    }
   ],
   "source": [
    "#Preprocess text\n",
    "nltk.download('stopwords')\n",
    "corpus = []\n",
    "for i in range(0, 1087):\n",
    "   #search for string objects between A and Z\n",
    "    review = re.sub('[^a-zA-Z]', ' ', file['text'][i])\n",
    "    review = review.lower()\n",
    "    review = review.split()\n",
    "    #porterstemmer allows us to classify words based on a abbreviated stem of a word\n",
    "    ps = PorterStemmer()\n",
    "    review = [ps.stem(word) for word in review if not word in set(stopwords.words('english'))]\n",
    "    review = ' '.join(review)\n",
    "    corpus.append(review)\n"
   ]
  },
  {
   "cell_type": "code",
   "execution_count": 22,
   "id": "cb4f96c8-eb4a-4454-8b2f-be5db837d997",
   "metadata": {},
   "outputs": [
    {
     "data": {
      "text/plain": [
       "array(['coping planning', 'risk perception', 'Benefits', ...,\n",
       "       'coping planning', 'coping planning', 'Benefits'], dtype=object)"
      ]
     },
     "execution_count": 22,
     "metadata": {},
     "output_type": "execute_result"
    }
   ],
   "source": [
    "#creat a bag-of words model and reduces redundancy \n",
    "cv = CountVectorizer()\n",
    "X = cv.fit_transform(corpus).toarray()\n",
    "y = file.iloc[:,0].values\n"
   ]
  },
  {
   "cell_type": "code",
   "execution_count": 23,
   "id": "bf60b7fc-001b-4669-8420-0d832ffe19e5",
   "metadata": {},
   "outputs": [],
   "source": [
    "#split data into training and testing\n",
    "X_train, X_test, y_train, y_test = train_test_split(X, y, test_size = 0.30, random_state = 21)\n"
   ]
  },
  {
   "cell_type": "code",
   "execution_count": 24,
   "id": "e098eebd-00ac-4049-b05a-48b644f69431",
   "metadata": {},
   "outputs": [
    {
     "data": {
      "text/plain": [
       "GaussianNB()"
      ]
     },
     "execution_count": 24,
     "metadata": {},
     "output_type": "execute_result"
    }
   ],
   "source": [
    "#Fitting Naive Bayes to the Training set\n",
    "classifier = GaussianNB()\n",
    "classifier.fit(X_train, y_train)"
   ]
  },
  {
   "cell_type": "code",
   "execution_count": 25,
   "id": "106d05c7-33bf-4750-a803-1606aa1a56f7",
   "metadata": {},
   "outputs": [
    {
     "data": {
      "text/plain": [
       "array([[ 60,   0,  67],\n",
       "       [  3,  62,  12],\n",
       "       [  4,   1, 118]], dtype=int64)"
      ]
     },
     "execution_count": 25,
     "metadata": {},
     "output_type": "execute_result"
    }
   ],
   "source": [
    "#Predicting the NB Test set results\n",
    "y_pred_NB = classifier.predict(X_test)\n",
    "cm_NB = confusion_matrix(y_test, y_pred_NB) \n",
    "cm_NB"
   ]
  },
  {
   "cell_type": "code",
   "execution_count": 40,
   "id": "cd81373d-0f76-44ef-b450-1a30add86e01",
   "metadata": {},
   "outputs": [
    {
     "name": "stdout",
     "output_type": "stream",
     "text": [
      "********************Naive Bayes Model Fit*********************\n",
      "                 precision    recall  f1-score   support\n",
      "\n",
      "       Benefits       0.90      0.47      0.62       127\n",
      "coping planning       0.98      0.81      0.89        77\n",
      "risk perception       0.60      0.96      0.74       123\n",
      "\n",
      "       accuracy                           0.73       327\n",
      "      macro avg       0.83      0.75      0.75       327\n",
      "   weighted avg       0.80      0.73      0.73       327\n",
      "\n",
      "Training Score: 0.9855263157894737\n",
      "Testing Score: 0.8470948012232415\n"
     ]
    }
   ],
   "source": [
    "#Classification report for Naive Bayes\n",
    "from sklearn.metrics import classification_report\n",
    "\n",
    "print(f'********************Naive Bayes Model Fit*********************')\n",
    "print(classification_report(y_test, y_pred_NB)) \n",
    "print(f'Training Score: {classifier.score(X_train, y_train)}')\n",
    "print(f'Testing Score: {classifier.score(X_test, y_test)}')"
   ]
  },
  {
   "cell_type": "code",
   "execution_count": 35,
   "id": "c9e6a146-0b53-4cff-b189-8caf81eccc33",
   "metadata": {},
   "outputs": [
    {
     "data": {
      "text/plain": [
       "DecisionTreeClassifier(criterion='entropy', random_state=21)"
      ]
     },
     "execution_count": 35,
     "metadata": {},
     "output_type": "execute_result"
    }
   ],
   "source": [
    "#Fitting Decision Tree model\n",
    "classifier = DecisionTreeClassifier(criterion = 'entropy', random_state = 21)\n",
    "classifier.fit(X_train, y_train)"
   ]
  },
  {
   "cell_type": "code",
   "execution_count": 36,
   "id": "8220074f-8bb9-4bdc-9250-4e38279152e4",
   "metadata": {},
   "outputs": [
    {
     "data": {
      "text/plain": [
       "array([[104,   4,  19],\n",
       "       [ 16,  61,   0],\n",
       "       [ 16,   1, 106]], dtype=int64)"
      ]
     },
     "execution_count": 36,
     "metadata": {},
     "output_type": "execute_result"
    }
   ],
   "source": [
    "#Predicting the decision tree results and confusion matrix\n",
    "y_pred_DT = classifier.predict(X_test)\n",
    "cm_DT = confusion_matrix(y_test, y_pred_DT) \n",
    "cm_DT"
   ]
  },
  {
   "cell_type": "code",
   "execution_count": 41,
   "id": "bfc62dca-33f3-4f11-91ab-4a387b4d53d7",
   "metadata": {},
   "outputs": [
    {
     "name": "stdout",
     "output_type": "stream",
     "text": [
      "*****************Decision Model Model*****************\n",
      "                 precision    recall  f1-score   support\n",
      "\n",
      "       Benefits       0.76      0.82      0.79       127\n",
      "coping planning       0.92      0.79      0.85        77\n",
      "risk perception       0.85      0.86      0.85       123\n",
      "\n",
      "       accuracy                           0.83       327\n",
      "      macro avg       0.85      0.82      0.83       327\n",
      "   weighted avg       0.83      0.83      0.83       327\n",
      "\n",
      "Training Score: 0.9855263157894737\n",
      "Testing Score: 0.8470948012232415\n"
     ]
    }
   ],
   "source": [
    "#Classification report for \n",
    "print(f'*****************Decision Model Model*****************')\n",
    "print(classification_report(y_test, y_pred_DT)) \n",
    "print(f'Training Score: {classifier.score(X_train, y_train)}')\n",
    "print(f'Testing Score: {classifier.score(X_test, y_test)}')"
   ]
  },
  {
   "cell_type": "code",
   "execution_count": 39,
   "id": "6a4c35eb-99ee-41e0-832d-468d257934b7",
   "metadata": {},
   "outputs": [
    {
     "data": {
      "text/plain": [
       "RandomForestClassifier(criterion='entropy', n_estimators=300, random_state=21)"
      ]
     },
     "execution_count": 39,
     "metadata": {},
     "output_type": "execute_result"
    }
   ],
   "source": [
    "#Fitting a random forest model\n",
    "classifier = RandomForestClassifier(n_estimators = 300, criterion = 'entropy', random_state = 21)\n",
    "classifier.fit(X_train, y_train)"
   ]
  },
  {
   "cell_type": "code",
   "execution_count": 42,
   "id": "433a611e-6b18-4075-9e5c-4c24cc2536f6",
   "metadata": {},
   "outputs": [
    {
     "data": {
      "text/plain": [
       "array([[101,   3,  23],\n",
       "       [  1,  62,  14],\n",
       "       [  8,   1, 114]], dtype=int64)"
      ]
     },
     "execution_count": 42,
     "metadata": {},
     "output_type": "execute_result"
    }
   ],
   "source": [
    "#Predicting the Random Forest results and confusion matrix\n",
    "y_pred_RF = classifier.predict(X_test)\n",
    "cm_RF = confusion_matrix(y_test, y_pred_RF) \n",
    "cm_RF"
   ]
  },
  {
   "cell_type": "code",
   "execution_count": 43,
   "id": "6d5507db-9959-4334-ba85-41a5342d0797",
   "metadata": {},
   "outputs": [
    {
     "name": "stdout",
     "output_type": "stream",
     "text": [
      "*****************Random Forest Model*****************\n",
      "                 precision    recall  f1-score   support\n",
      "\n",
      "       Benefits       0.92      0.80      0.85       127\n",
      "coping planning       0.94      0.81      0.87        77\n",
      "risk perception       0.75      0.93      0.83       123\n",
      "\n",
      "       accuracy                           0.85       327\n",
      "      macro avg       0.87      0.84      0.85       327\n",
      "   weighted avg       0.86      0.85      0.85       327\n",
      "\n",
      "Training Score: 0.9855263157894737\n",
      "Testing Score: 0.8470948012232415\n"
     ]
    }
   ],
   "source": [
    "print(f'*****************Random Forest Model*****************')\n",
    "print(classification_report(y_test, y_pred_RF)) \n",
    "print(f'Training Score: {classifier.score(X_train, y_train)}')\n",
    "print(f'Testing Score: {classifier.score(X_test, y_test)}')"
   ]
  }
 ],
 "metadata": {
  "kernelspec": {
   "display_name": "PythonData",
   "language": "python",
   "name": "pythondata"
  },
  "language_info": {
   "codemirror_mode": {
    "name": "ipython",
    "version": 3
   },
   "file_extension": ".py",
   "mimetype": "text/x-python",
   "name": "python",
   "nbconvert_exporter": "python",
   "pygments_lexer": "ipython3",
   "version": "3.8.8"
  }
 },
 "nbformat": 4,
 "nbformat_minor": 5
}
